{
 "cells": [
  {
   "cell_type": "code",
   "execution_count": 10,
   "id": "71ab2074-a4b7-4675-827f-9f2e0a1a8902",
   "metadata": {},
   "outputs": [],
   "source": [
    "import pandas as pd\n",
    "import os\n",
    "COVID = pd.read_excel(\"./COVID.xlsx\")"
   ]
  },
  {
   "cell_type": "code",
   "execution_count": 13,
   "id": "1e7ad7a4-f902-4ece-b21c-199b62d79246",
   "metadata": {},
   "outputs": [
    {
     "name": "stdout",
     "output_type": "stream",
     "text": [
      "<class 'pandas.core.frame.DataFrame'>\n",
      "RangeIndex: 229 entries, 0 to 228\n",
      "Data columns (total 2 columns):\n",
      " #   Column  Non-Null Count  Dtype \n",
      "---  ------  --------------  ----- \n",
      " 0   Date    229 non-null    object\n",
      " 1   Total   229 non-null    int64 \n",
      "dtypes: int64(1), object(1)\n",
      "memory usage: 3.7+ KB\n"
     ]
    }
   ],
   "source": [
    "COVID.info()"
   ]
  },
  {
   "cell_type": "code",
   "execution_count": 14,
   "id": "3721186c-bd23-49e0-aa05-59d64efcd717",
   "metadata": {},
   "outputs": [],
   "source": [
    "COVID['Date'] = pd.to_datetime(COVID['Date'])"
   ]
  },
  {
   "cell_type": "code",
   "execution_count": 15,
   "id": "aa62841e-27b9-4ad4-8562-c9da62adaa08",
   "metadata": {},
   "outputs": [],
   "source": [
    "COVID['week'] = COVID['Date'].dt.isocalendar().week\n",
    "COVID['YEAR']=COVID['Date'].dt.year\n",
    "COVID['YEAR+WEEK'] = COVID['YEAR'].astype(str)+\"-\"+COVID['week'].astype(str)"
   ]
  },
  {
   "cell_type": "code",
   "execution_count": 16,
   "id": "46885621-092b-4940-a347-8ae1dea03c0b",
   "metadata": {},
   "outputs": [
    {
     "data": {
      "text/html": [
       "<div>\n",
       "<style scoped>\n",
       "    .dataframe tbody tr th:only-of-type {\n",
       "        vertical-align: middle;\n",
       "    }\n",
       "\n",
       "    .dataframe tbody tr th {\n",
       "        vertical-align: top;\n",
       "    }\n",
       "\n",
       "    .dataframe thead th {\n",
       "        text-align: right;\n",
       "    }\n",
       "</style>\n",
       "<table border=\"1\" class=\"dataframe\">\n",
       "  <thead>\n",
       "    <tr style=\"text-align: right;\">\n",
       "      <th></th>\n",
       "      <th>Date</th>\n",
       "      <th>Total</th>\n",
       "      <th>week</th>\n",
       "      <th>YEAR</th>\n",
       "      <th>YEAR+WEEK</th>\n",
       "    </tr>\n",
       "  </thead>\n",
       "  <tbody>\n",
       "    <tr>\n",
       "      <th>0</th>\n",
       "      <td>2020-01-05</td>\n",
       "      <td>2</td>\n",
       "      <td>1</td>\n",
       "      <td>2020</td>\n",
       "      <td>2020-1</td>\n",
       "    </tr>\n",
       "    <tr>\n",
       "      <th>1</th>\n",
       "      <td>2020-01-12</td>\n",
       "      <td>45</td>\n",
       "      <td>2</td>\n",
       "      <td>2020</td>\n",
       "      <td>2020-2</td>\n",
       "    </tr>\n",
       "    <tr>\n",
       "      <th>2</th>\n",
       "      <td>2020-01-19</td>\n",
       "      <td>90</td>\n",
       "      <td>3</td>\n",
       "      <td>2020</td>\n",
       "      <td>2020-3</td>\n",
       "    </tr>\n",
       "    <tr>\n",
       "      <th>3</th>\n",
       "      <td>2020-01-26</td>\n",
       "      <td>1896</td>\n",
       "      <td>4</td>\n",
       "      <td>2020</td>\n",
       "      <td>2020-4</td>\n",
       "    </tr>\n",
       "    <tr>\n",
       "      <th>4</th>\n",
       "      <td>2020-02-02</td>\n",
       "      <td>12538</td>\n",
       "      <td>5</td>\n",
       "      <td>2020</td>\n",
       "      <td>2020-5</td>\n",
       "    </tr>\n",
       "    <tr>\n",
       "      <th>...</th>\n",
       "      <td>...</td>\n",
       "      <td>...</td>\n",
       "      <td>...</td>\n",
       "      <td>...</td>\n",
       "      <td>...</td>\n",
       "    </tr>\n",
       "    <tr>\n",
       "      <th>224</th>\n",
       "      <td>2024-04-21</td>\n",
       "      <td>31841</td>\n",
       "      <td>16</td>\n",
       "      <td>2024</td>\n",
       "      <td>2024-16</td>\n",
       "    </tr>\n",
       "    <tr>\n",
       "      <th>225</th>\n",
       "      <td>2024-04-28</td>\n",
       "      <td>34278</td>\n",
       "      <td>17</td>\n",
       "      <td>2024</td>\n",
       "      <td>2024-17</td>\n",
       "    </tr>\n",
       "    <tr>\n",
       "      <th>226</th>\n",
       "      <td>2024-05-05</td>\n",
       "      <td>30812</td>\n",
       "      <td>18</td>\n",
       "      <td>2024</td>\n",
       "      <td>2024-18</td>\n",
       "    </tr>\n",
       "    <tr>\n",
       "      <th>227</th>\n",
       "      <td>2024-05-12</td>\n",
       "      <td>33678</td>\n",
       "      <td>19</td>\n",
       "      <td>2024</td>\n",
       "      <td>2024-19</td>\n",
       "    </tr>\n",
       "    <tr>\n",
       "      <th>228</th>\n",
       "      <td>2024-05-19</td>\n",
       "      <td>36014</td>\n",
       "      <td>20</td>\n",
       "      <td>2024</td>\n",
       "      <td>2024-20</td>\n",
       "    </tr>\n",
       "  </tbody>\n",
       "</table>\n",
       "<p>229 rows × 5 columns</p>\n",
       "</div>"
      ],
      "text/plain": [
       "          Date  Total  week  YEAR YEAR+WEEK\n",
       "0   2020-01-05      2     1  2020    2020-1\n",
       "1   2020-01-12     45     2  2020    2020-2\n",
       "2   2020-01-19     90     3  2020    2020-3\n",
       "3   2020-01-26   1896     4  2020    2020-4\n",
       "4   2020-02-02  12538     5  2020    2020-5\n",
       "..         ...    ...   ...   ...       ...\n",
       "224 2024-04-21  31841    16  2024   2024-16\n",
       "225 2024-04-28  34278    17  2024   2024-17\n",
       "226 2024-05-05  30812    18  2024   2024-18\n",
       "227 2024-05-12  33678    19  2024   2024-19\n",
       "228 2024-05-19  36014    20  2024   2024-20\n",
       "\n",
       "[229 rows x 5 columns]"
      ]
     },
     "execution_count": 16,
     "metadata": {},
     "output_type": "execute_result"
    }
   ],
   "source": [
    "COVID"
   ]
  },
  {
   "cell_type": "code",
   "execution_count": 18,
   "id": "572b1bca-d278-4ac6-b4f8-0282d8d38fd2",
   "metadata": {},
   "outputs": [],
   "source": [
    "COVID.to_excel('COVID.xlsx', index=True)"
   ]
  }
 ],
 "metadata": {
  "kernelspec": {
   "display_name": "Python 3 (ipykernel)",
   "language": "python",
   "name": "python3"
  },
  "language_info": {
   "codemirror_mode": {
    "name": "ipython",
    "version": 3
   },
   "file_extension": ".py",
   "mimetype": "text/x-python",
   "name": "python",
   "nbconvert_exporter": "python",
   "pygments_lexer": "ipython3",
   "version": "3.11.7"
  }
 },
 "nbformat": 4,
 "nbformat_minor": 5
}
